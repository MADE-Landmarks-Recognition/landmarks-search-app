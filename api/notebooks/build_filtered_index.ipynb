{
 "cells": [
  {
   "cell_type": "code",
   "execution_count": 11,
   "metadata": {},
   "outputs": [],
   "source": [
    "import os\n",
    "from tqdm import tqdm\n",
    "import numpy as np\n",
    "import pandas as pd\n",
    "import faiss\n",
    "from PIL import Image\n",
    "import torch\n",
    "from torchvision import transforms\n",
    "\n",
    "\n",
    "IMG_DIR = \"../../data/filtered/\"\n",
    "IMG_SIZE = 224\n",
    "EMB_SIZE = 384\n",
    "DEVICE = \"cuda\"\n",
    "CHECKPOINT_PATH = \"../checkpoints/extractor.torchscript\"\n",
    "DUMP_PATH = \"../checkpoints/landmarks_filtered_db\""
   ]
  },
  {
   "cell_type": "code",
   "execution_count": 2,
   "metadata": {},
   "outputs": [
    {
     "name": "stdout",
     "output_type": "stream",
     "text": [
      "landmark_id    556884\n",
      "id             556884\n",
      "dtype: int64\n"
     ]
    },
    {
     "data": {
      "text/html": [
       "<div>\n",
       "<style scoped>\n",
       "    .dataframe tbody tr th:only-of-type {\n",
       "        vertical-align: middle;\n",
       "    }\n",
       "\n",
       "    .dataframe tbody tr th {\n",
       "        vertical-align: top;\n",
       "    }\n",
       "\n",
       "    .dataframe thead th {\n",
       "        text-align: right;\n",
       "    }\n",
       "</style>\n",
       "<table border=\"1\" class=\"dataframe\">\n",
       "  <thead>\n",
       "    <tr style=\"text-align: right;\">\n",
       "      <th></th>\n",
       "      <th>landmark_id</th>\n",
       "      <th>id</th>\n",
       "    </tr>\n",
       "  </thead>\n",
       "  <tbody>\n",
       "    <tr>\n",
       "      <th>0</th>\n",
       "      <td>126637</td>\n",
       "      <td>61a922bc87eade27</td>\n",
       "    </tr>\n",
       "    <tr>\n",
       "      <th>1</th>\n",
       "      <td>126637</td>\n",
       "      <td>deceb9e5b5cb1f68</td>\n",
       "    </tr>\n",
       "    <tr>\n",
       "      <th>2</th>\n",
       "      <td>126637</td>\n",
       "      <td>232c227f4002b3f5</td>\n",
       "    </tr>\n",
       "    <tr>\n",
       "      <th>3</th>\n",
       "      <td>126637</td>\n",
       "      <td>1b7f6ab4d250c671</td>\n",
       "    </tr>\n",
       "    <tr>\n",
       "      <th>4</th>\n",
       "      <td>126637</td>\n",
       "      <td>be277cf05cb58cc0</td>\n",
       "    </tr>\n",
       "  </tbody>\n",
       "</table>\n",
       "</div>"
      ],
      "text/plain": [
       "   landmark_id                id\n",
       "0       126637  61a922bc87eade27\n",
       "1       126637  deceb9e5b5cb1f68\n",
       "2       126637  232c227f4002b3f5\n",
       "3       126637  1b7f6ab4d250c671\n",
       "4       126637  be277cf05cb58cc0"
      ]
     },
     "execution_count": 2,
     "metadata": {},
     "output_type": "execute_result"
    }
   ],
   "source": [
    "image_df = pd.read_csv(\"../../data/filtered/filtered.csv\")\n",
    "print(image_df.count())\n",
    "image_df.head()"
   ]
  },
  {
   "cell_type": "code",
   "execution_count": 3,
   "metadata": {},
   "outputs": [],
   "source": [
    "def img_path_from_id(id, data_dir):\n",
    "    img_path = os.path.join(data_dir, id[0], id[1], id[2], f\"{id}.jpg\")\n",
    "    return img_path\n",
    "\n",
    "images = [(landmark_id, img_path_from_id(img_id, IMG_DIR)) for landmark_id, img_id in zip(image_df[\"landmark_id\"].values, image_df[\"id\"].values)]"
   ]
  },
  {
   "cell_type": "code",
   "execution_count": 4,
   "metadata": {},
   "outputs": [],
   "source": [
    "labels = [im[0] for im in images]\n",
    "img_names = [im[1] for im in images]"
   ]
  },
  {
   "cell_type": "code",
   "execution_count": null,
   "metadata": {},
   "outputs": [],
   "source": [
    "embedding_model = torch.jit.load(CHECKPOINT_PATH, map_location=DEVICE)\n",
    "embedding_model.eval()"
   ]
  },
  {
   "cell_type": "code",
   "execution_count": 7,
   "metadata": {},
   "outputs": [],
   "source": [
    "def get_image(path):\n",
    "    image = Image.open(path).convert(\"RGB\")\n",
    "    return image\n",
    "\n",
    "\n",
    "def transform_image(image):\n",
    "    trans = transforms.Compose(\n",
    "        [\n",
    "            transforms.Resize((IMG_SIZE + 32, IMG_SIZE + 32)),\n",
    "            transforms.CenterCrop(IMG_SIZE),\n",
    "            transforms.ToTensor(),\n",
    "            transforms.Normalize([0.485, 0.456, 0.406], [0.229, 0.224, 0.225]),\n",
    "        ]\n",
    "    )\n",
    "    return trans(image)\n",
    "\n",
    "\n",
    "def get_image_embedding(model, image):\n",
    "    return model(image.to(DEVICE).unsqueeze(0))\n"
   ]
  },
  {
   "cell_type": "code",
   "execution_count": 8,
   "metadata": {},
   "outputs": [],
   "source": [
    "faiss_index = faiss.IndexFlatIP(EMB_SIZE)"
   ]
  },
  {
   "cell_type": "code",
   "execution_count": 12,
   "metadata": {},
   "outputs": [
    {
     "name": "stderr",
     "output_type": "stream",
     "text": [
      "100%|██████████| 556884/556884 [3:37:36<00:00, 42.65it/s]  \n"
     ]
    }
   ],
   "source": [
    "all_embeddings = []\n",
    "for i in tqdm(range(len(img_names))):\n",
    "    im_name = img_names[i]\n",
    "    image = get_image(im_name)\n",
    "    image = transform_image(image)\n",
    "    image_emb = get_image_embedding(embedding_model, image).detach().cpu().numpy()\n",
    "    del image\n",
    "    torch.cuda.empty_cache()\n",
    "    all_embeddings.append(image_emb)"
   ]
  },
  {
   "cell_type": "code",
   "execution_count": 16,
   "metadata": {},
   "outputs": [],
   "source": [
    "all_embeddings_squeeze = [emb.squeeze(0) for emb in all_embeddings]"
   ]
  },
  {
   "cell_type": "code",
   "execution_count": 17,
   "metadata": {},
   "outputs": [],
   "source": [
    "embeddings = np.array(all_embeddings_squeeze, dtype=np.float32)"
   ]
  },
  {
   "cell_type": "code",
   "execution_count": 18,
   "metadata": {},
   "outputs": [
    {
     "data": {
      "text/plain": [
       "(556884, 384)"
      ]
     },
     "execution_count": 18,
     "metadata": {},
     "output_type": "execute_result"
    }
   ],
   "source": [
    "embeddings.shape"
   ]
  },
  {
   "cell_type": "code",
   "execution_count": 19,
   "metadata": {},
   "outputs": [],
   "source": [
    "faiss_index.add(embeddings)"
   ]
  },
  {
   "cell_type": "code",
   "execution_count": 20,
   "metadata": {},
   "outputs": [],
   "source": [
    "faiss.write_index(faiss_index, DUMP_PATH + \".index\")\n",
    "np.savez_compressed(DUMP_PATH + \".npz\", labels=labels, img_names=img_names)"
   ]
  },
  {
   "cell_type": "code",
   "execution_count": null,
   "metadata": {},
   "outputs": [],
   "source": []
  }
 ],
 "metadata": {
  "kernelspec": {
   "display_name": "Python 3.9.5 ('landmarks-app-8FyqVnJp-py3.9')",
   "language": "python",
   "name": "python3"
  },
  "language_info": {
   "codemirror_mode": {
    "name": "ipython",
    "version": 3
   },
   "file_extension": ".py",
   "mimetype": "text/x-python",
   "name": "python",
   "nbconvert_exporter": "python",
   "pygments_lexer": "ipython3",
   "version": "3.9.5"
  },
  "orig_nbformat": 4,
  "vscode": {
   "interpreter": {
    "hash": "6837259c64425f9974ee2af9fd36cc42850b53c582df4408ed0f3b156f9f0bc1"
   }
  }
 },
 "nbformat": 4,
 "nbformat_minor": 2
}
